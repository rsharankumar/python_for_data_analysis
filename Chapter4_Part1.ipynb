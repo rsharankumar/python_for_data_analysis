# -*- coding: utf-8 -*-
"""
Created on Wed May 17 13:58:14 2017

@author: skumarravindran
"""

import numpy as np


data1 = [6, 7.5, 8, 0, 1]
data_array = np.array(data1)
data_array = data_array * 10
data_array.dtype