{
 "cells": [
  {
   "cell_type": "code",
   "execution_count": 5,
   "metadata": {
    "collapsed": false
   },
   "outputs": [
    {
     "name": "stdout",
     "output_type": "stream",
     "text": [
      "{0: 0.6372642606885398, 1: -0.4225452428067644, 2: -0.7843727123389173, 3: -0.8847851734463955, 4: -0.852400737934043, 5: 1.3997308682713028, 6: -0.31173524185998613}\n",
      "288\n",
      "None\n",
      "6\n",
      "10000 loops, best of 3: 26.5 µs per loop\n"
     ]
    }
   ],
   "source": [
    "# -*- coding: utf-8 -*-\n",
    "\"\"\"\n",
    "Created on Mon May 15 16:56:12 2017\n",
    "\n",
    "@author: skumarravindran\n",
    "\"\"\"\n",
    "\n",
    "\n",
    "from numpy.random import randn\n",
    "data = {i : randn() for i in range(7)}\n",
    "print data\n",
    "\n",
    "\n",
    "def f(a,b):\n",
    "    print a * b\n",
    "    \n",
    "result = f(24,12)\n",
    "print result\n",
    "\n",
    "x = 5\n",
    "if x>4:\n",
    "    x=x+1\n",
    "    print x\n",
    "    \n",
    "    \n",
    "a = np.random.randn(100, 100)\n",
    "%timeit np.dot(a, a)\n",
    "\n",
    "\n"
   ]
  },
  {
   "cell_type": "code",
   "execution_count": null,
   "metadata": {
    "collapsed": true
   },
   "outputs": [],
   "source": []
  }
 ],
 "metadata": {
  "kernelspec": {
   "display_name": "Python 2",
   "language": "python",
   "name": "python2"
  },
  "language_info": {
   "codemirror_mode": {
    "name": "ipython",
    "version": 2
   },
   "file_extension": ".py",
   "mimetype": "text/x-python",
   "name": "python",
   "nbconvert_exporter": "python",
   "pygments_lexer": "ipython2",
   "version": "2.7.13"
  }
 },
 "nbformat": 4,
 "nbformat_minor": 2
}
